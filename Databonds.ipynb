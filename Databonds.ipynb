{
 "cells": [
  {
   "cell_type": "code",
   "execution_count": 1,
   "metadata": {
    "collapsed": false
   },
   "outputs": [
    {
     "name": "stdout",
     "output_type": "stream",
     "text": [
      "Collecting watson_developer_cloud\n",
      "Requirement already up-to-date: requests<3.0,>=2.0 in /Users/Timothy/anaconda/lib/python3.5/site-packages (from watson_developer_cloud)\n",
      "Collecting pysolr<4.0,>=3.3 (from watson_developer_cloud)\n",
      "  Using cached pysolr-3.6.0-py2.py3-none-any.whl\n",
      "Installing collected packages: pysolr, watson-developer-cloud\n",
      "Successfully installed pysolr-3.6.0 watson-developer-cloud-0.25.2\n"
     ]
    }
   ],
   "source": [
    "!pip install --upgrade watson_developer_cloud\n",
    "import requests\n",
    "import json\n",
    "from watson_developer_cloud import ToneAnalyzerV3, PersonalityInsightsV3\n",
    "from pandas.io.json import json_normalize"
   ]
  },
  {
   "cell_type": "code",
   "execution_count": 15,
   "metadata": {
    "collapsed": true
   },
   "outputs": [],
   "source": [
    "TONE_USERNAME=\"\"\n",
    "TONE_PASSWORD=\"\"\n",
    "\n",
    "PERSONALITY_USERNAME=\"\"\n",
    "PERSONALITY_PASSWORD=\"\"\n",
    "\n",
    "CLIENT_ID = \"BAKJ0TGIYMME3JPCGZL0D4OLSJHBZ3DX44QFWUDMJGOOFPKG\"\n",
    "CLIENT_SECRET = \"JQKJZ30CJSMLF1GLPR44N0F2YZCMR1330AJDY2KYQTFDL3T4\"\n",
    "VERSION = \"20170410\"\n",
    "\n",
    "LATITUDE, LONGITUDE = (37.7874837351694, -122.396397426087)\n",
    "\n",
    "VENUE_IDS = [\"4a738f2ef964a520d1dc1fe3\", \"52f68391498e8f7e37301c92\", \"4da489958c8d594121f64e0f\", \"4c7d9ce06d79bfb7da9798b9\", \"51b75759498e0596ceb4006f\"]"
   ]
  },
  {
   "cell_type": "code",
   "execution_count": 3,
   "metadata": {
    "collapsed": false
   },
   "outputs": [],
   "source": [
    "tone_analyzer = ToneAnalyzerV3(\n",
    "   username=TONE_USERNAME,\n",
    "   password=TONE_PASSWORD,\n",
    "   version='2016-05-19')\n",
    "\n",
    "personality_insights = PersonalityInsightsV3(\n",
    "    username=PERSONALITY_USERNAME,\n",
    "    password=PERSONALITY_PASSWORD,\n",
    "    version='2016-10-20')"
   ]
  },
  {
   "cell_type": "code",
   "execution_count": 20,
   "metadata": {
    "collapsed": false
   },
   "outputs": [
    {
     "name": "stdout",
     "output_type": "stream",
     "text": [
      "https://api.foursquare.com/v2/venues/{}/nextvenues?client_id=BAKJ0TGIYMME3JPCGZL0D4OLSJHBZ3DX44QFWUDMJGOOFPKG&client_secret=JQKJZ30CJSMLF1GLPR44N0F2YZCMR1330AJDY2KYQTFDL3T4&ll={},{}&v=20170410\n",
      "set()\n",
      "\n",
      "set()\n",
      "\n",
      "set()\n",
      "\n",
      "{'The Apothecarium'}\n",
      "\n",
      "{'Churchill', 'Safeway', 'Whole Foods Market', 'Pilsner Inn', 'Mission Dolores Park'}\n",
      "\n",
      "set()\n",
      "\n",
      "set()\n",
      "\n",
      "set()\n",
      "\n",
      "set()\n",
      "\n",
      "set()\n",
      "\n",
      "set()\n",
      "\n",
      "set()\n",
      "\n",
      "set()\n",
      "\n",
      "set()\n",
      "\n",
      "set()\n",
      "\n",
      "{\"Quinn's Lighthouse Restaurant & Pub\", 'Embarcadero Cove Marina'}\n",
      "\n",
      "set()\n",
      "\n",
      "set()\n",
      "\n",
      "set()\n",
      "\n",
      "set()\n",
      "\n",
      "set()\n",
      "\n",
      "set()\n",
      "\n",
      "set()\n",
      "\n",
      "set()\n",
      "\n",
      "set()\n",
      "\n",
      "set()\n",
      "\n",
      "{'Westfield San Francisco Centre', 'Buca di Beppo Italian Restaurant', 'AT&T Park', 'Lounge8four7'}\n",
      "\n",
      "{'Blue Bottle Coffee'}\n",
      "\n",
      "set()\n",
      "\n",
      "{'Zeitgeist', 'Tempest', 'Mission Dolores Park', 'CityTarget', 'The Market'}\n",
      "\n",
      "set()\n",
      "\n"
     ]
    }
   ],
   "source": [
    "next_endpoint = \"https://api.foursquare.com/v2/venues/{}/nextvenues?client_id=BAKJ0TGIYMME3JPCGZL0D4OLSJHBZ3DX44QFWUDMJGOOFPKG&client_secret=JQKJZ30CJSMLF1GLPR44N0F2YZCMR1330AJDY2KYQTFDL3T4&ll={},{}&v=20170410\"\n",
    "print(next_endpoint)\n",
    "\n",
    "venues = ['4b611f9bf964a520750a2ae3', '56f685f4498e8164e4bf11f5', '579df560498e408b3045d241', '537ab1f6498eb2a2de8aeffe', '4d094f5ac26ba14344671e17', '4e6a416fb993d5439f2600ad', '56a9ce16498e1525f20f2c62', '56b20b2f237c532a7cc51b8d', '4fcfce98e4b014bc8f31e164', '54f69d8d498e859ac210bd77', '51b75759498e0596ceb4006f', '54115443498e268f429b0704', '585a1c7e469aef0db46aab1e', '4cb8d4d54352a1cd89a488f5', '4be9d6beb3352d7f7b7a54d2', '4bb3ce2814cfd13ab99416ab', '4bb7c670b35776b01729c801', '522bc30c11d2e38655e70958', '4dd6d92d52b1a5c6443e1448', '4e82657e02d54fb95234f325', '54341ced498ec001c68d6792', '55b9a128498eff099d0540cf', '531e5800498ed01112c794ce', '55ad12bb498ed9bf361f2c70', '50cfe49fe4b01ebdb62590c9', '57228406498ecb4249efd49c']\n",
    "for venue in venues:\n",
    "    results = requests.get(next_endpoint.format(venue[\"id\"], venue[\"lat\"], venue[\"long\"])).json()\n",
    "    next_five = {item[\"name\"] for item in results[\"response\"][\"nextVenues\"][\"items\"]}\n",
    "    print(next_five)"
   ]
  },
  {
   "cell_type": "code",
   "execution_count": null,
   "metadata": {
    "collapsed": false
   },
   "outputs": [],
   "source": []
  },
  {
   "cell_type": "code",
   "execution_count": null,
   "metadata": {
    "collapsed": true
   },
   "outputs": [],
   "source": []
  }
 ],
 "metadata": {
  "anaconda-cloud": {},
  "kernelspec": {
   "display_name": "Python [conda root]",
   "language": "python",
   "name": "conda-root-py"
  },
  "language_info": {
   "codemirror_mode": {
    "name": "ipython",
    "version": 3
   },
   "file_extension": ".py",
   "mimetype": "text/x-python",
   "name": "python",
   "nbconvert_exporter": "python",
   "pygments_lexer": "ipython3",
   "version": "3.5.2"
  }
 },
 "nbformat": 4,
 "nbformat_minor": 0
}
