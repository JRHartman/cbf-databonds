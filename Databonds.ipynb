{
 "cells": [
  {
   "cell_type": "code",
   "execution_count": 8,
   "metadata": {
    "collapsed": false
   },
   "outputs": [
    {
     "name": "stdout",
     "output_type": "stream",
     "text": [
      "Requirement already up-to-date: watson_developer_cloud in /Users/Timothy/anaconda/lib/python3.5/site-packages\n",
      "Requirement already up-to-date: requests<3.0,>=2.0 in /Users/Timothy/anaconda/lib/python3.5/site-packages (from watson_developer_cloud)\n",
      "Requirement already up-to-date: pysolr<4.0,>=3.3 in /Users/Timothy/anaconda/lib/python3.5/site-packages (from watson_developer_cloud)\n"
     ]
    }
   ],
   "source": [
    "!pip install --upgrade watson_developer_cloud\n",
    "import pandas as pd\n",
    "import requests\n",
    "import json\n",
    "from sklearn.linear_model import LogisticRegression\n",
    "from watson_developer_cloud import ToneAnalyzerV3, PersonalityInsightsV3\n",
    "from pandas.io.json import json_normalize"
   ]
  },
  {
   "cell_type": "code",
   "execution_count": 5,
   "metadata": {
    "collapsed": true
   },
   "outputs": [],
   "source": [
    "TONE_USERNAME=\"73c548cb-bfda-46ec-bae7-cf6c1a47b591\"\n",
    "TONE_PASSWORD=\"BFh7K22hKZfe\"\n",
    "\n",
    "PERSONALITY_USERNAME=\"\"\n",
    "PERSONALITY_PASSWORD=\"\"\n",
    "\n",
    "CLIENT_ID = \"BAKJ0TGIYMME3JPCGZL0D4OLSJHBZ3DX44QFWUDMJGOOFPKG\"\n",
    "CLIENT_SECRET = \"JQKJZ30CJSMLF1GLPR44N0F2YZCMR1330AJDY2KYQTFDL3T4\"\n",
    "VERSION = \"20170410\""
   ]
  },
  {
   "cell_type": "code",
   "execution_count": 6,
   "metadata": {
    "collapsed": false
   },
   "outputs": [],
   "source": [
    "tone_analyzer = ToneAnalyzerV3(\n",
    "   username=TONE_USERNAME,\n",
    "   password=TONE_PASSWORD,\n",
    "   version='2016-05-19')\n",
    "\n",
    "personality_insights = PersonalityInsightsV3(\n",
    "    username=PERSONALITY_USERNAME,\n",
    "    password=PERSONALITY_PASSWORD,\n",
    "    version='2016-10-20')"
   ]
  },
  {
   "cell_type": "code",
   "execution_count": 21,
   "metadata": {
    "collapsed": false
   },
   "outputs": [
    {
     "name": "stdout",
     "output_type": "stream",
     "text": [
      "<class 'dict'>\n",
      "<class 'dict'>\n",
      "<class 'dict'>\n",
      "[]\n"
     ]
    }
   ],
   "source": [
    "text = \"\"\"\n",
    "Grass Roots has totally become one of my standard stops.  They're consistent and stocked.\n",
    "\n",
    "*They carry a huge selection of waxes, oils, shatters, keif, and edibles (and they've changed from the difficult to open containers).\n",
    "*Some of the flowers have the lab results posted, most don't.  They've all been quality.\n",
    "*With such a wide selection, you're bound to find something to accommodate whatever your budget may be.\n",
    "\"\"\"\n",
    "\n",
    "training_data = []\n",
    "\n",
    "user_reviews = [\n",
    "    {\n",
    "        \"id\": \"\",\n",
    "        \"text\": \"\"\n",
    "    },\n",
    "    {\n",
    "        \"id\": \"\",\n",
    "        \"text\": \"\"\n",
    "    },\n",
    "    {\n",
    "        \"id\": \"\",\n",
    "        \"text\": \"\"\n",
    "    },\n",
    "]\n",
    "\n",
    "\n",
    "for user in user_reviews[:1]:\n",
    "    result = tone_analyzer.tone(text)"
   ]
  },
  {
   "cell_type": "code",
   "execution_count": 39,
   "metadata": {
    "collapsed": false
   },
   "outputs": [
    {
     "data": {
      "text/html": [
       "<div>\n",
       "<table border=\"1\" class=\"dataframe\">\n",
       "  <thead>\n",
       "    <tr style=\"text-align: right;\">\n",
       "      <th></th>\n",
       "      <th>score</th>\n",
       "      <th>tone_id</th>\n",
       "      <th>tone_name</th>\n",
       "    </tr>\n",
       "  </thead>\n",
       "  <tbody>\n",
       "    <tr>\n",
       "      <th>0</th>\n",
       "      <td>0.222072</td>\n",
       "      <td>anger</td>\n",
       "      <td>Anger</td>\n",
       "    </tr>\n",
       "    <tr>\n",
       "      <th>1</th>\n",
       "      <td>0.105165</td>\n",
       "      <td>disgust</td>\n",
       "      <td>Disgust</td>\n",
       "    </tr>\n",
       "    <tr>\n",
       "      <th>2</th>\n",
       "      <td>0.163007</td>\n",
       "      <td>fear</td>\n",
       "      <td>Fear</td>\n",
       "    </tr>\n",
       "    <tr>\n",
       "      <th>3</th>\n",
       "      <td>0.256428</td>\n",
       "      <td>joy</td>\n",
       "      <td>Joy</td>\n",
       "    </tr>\n",
       "    <tr>\n",
       "      <th>4</th>\n",
       "      <td>0.178713</td>\n",
       "      <td>sadness</td>\n",
       "      <td>Sadness</td>\n",
       "    </tr>\n",
       "  </tbody>\n",
       "</table>\n",
       "</div>"
      ],
      "text/plain": [
       "      score  tone_id tone_name\n",
       "0  0.222072    anger     Anger\n",
       "1  0.105165  disgust   Disgust\n",
       "2  0.163007     fear      Fear\n",
       "3  0.256428      joy       Joy\n",
       "4  0.178713  sadness   Sadness"
      ]
     },
     "execution_count": 39,
     "metadata": {},
     "output_type": "execute_result"
    }
   ],
   "source": [
    "df = pd.DataFrame()\n",
    "for category in result[\"document_tone\"][\"tone_categories\"]:\n",
    "    df = df.append(json_normalize(category[\"tones\"]))\n",
    "df.head()"
   ]
  },
  {
   "cell_type": "code",
   "execution_count": 40,
   "metadata": {
    "collapsed": false
   },
   "outputs": [
    {
     "name": "stdout",
     "output_type": "stream",
     "text": [
      "      score                 tone_id          tone_name\n",
      "0  0.222072                   anger              Anger\n",
      "1  0.105165                 disgust            Disgust\n",
      "2  0.163007                    fear               Fear\n",
      "3  0.256428                     joy                Joy\n",
      "4  0.178713                 sadness            Sadness\n",
      "0  0.001008              analytical         Analytical\n",
      "1  0.000000               confident          Confident\n",
      "2  0.887150               tentative          Tentative\n",
      "0  0.819561           openness_big5           Openness\n",
      "1  0.214612  conscientiousness_big5  Conscientiousness\n",
      "2  0.208616       extraversion_big5       Extraversion\n",
      "3  0.098078      agreeableness_big5      Agreeableness\n",
      "4  0.083396    emotional_range_big5    Emotional Range\n"
     ]
    }
   ],
   "source": [
    "print(df)"
   ]
  },
  {
   "cell_type": "code",
   "execution_count": null,
   "metadata": {
    "collapsed": true
   },
   "outputs": [],
   "source": []
  }
 ],
 "metadata": {
  "anaconda-cloud": {},
  "kernelspec": {
   "display_name": "Python [conda root]",
   "language": "python",
   "name": "conda-root-py"
  },
  "language_info": {
   "codemirror_mode": {
    "name": "ipython",
    "version": 3
   },
   "file_extension": ".py",
   "mimetype": "text/x-python",
   "name": "python",
   "nbconvert_exporter": "python",
   "pygments_lexer": "ipython3",
   "version": "3.5.2"
  }
 },
 "nbformat": 4,
 "nbformat_minor": 0
}
