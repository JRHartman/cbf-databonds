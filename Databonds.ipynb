{
 "cells": [
  {
   "cell_type": "code",
   "execution_count": 8,
   "metadata": {
    "collapsed": false
   },
   "outputs": [
    {
     "name": "stdout",
     "output_type": "stream",
     "text": [
      "Requirement already up-to-date: watson_developer_cloud in /gpfs/global_fs01/sym_shared/YPProdSpark/user/sa5f-56e47b98df3ee0-df5e1d77e4ce/.local/lib/python3.5/site-packages\n",
      "Requirement already up-to-date: pysolr<4.0,>=3.3 in /gpfs/global_fs01/sym_shared/YPProdSpark/user/sa5f-56e47b98df3ee0-df5e1d77e4ce/.local/lib/python3.5/site-packages (from watson_developer_cloud)\n",
      "Requirement already up-to-date: requests<3.0,>=2.0 in /gpfs/global_fs01/sym_shared/YPProdSpark/user/sa5f-56e47b98df3ee0-df5e1d77e4ce/.local/lib/python3.5/site-packages (from watson_developer_cloud)\n"
     ]
    }
   ],
   "source": [
    "!pip install --upgrade watson_developer_cloud\n",
    "from watson_developer_cloud import ToneAnalyzerV3, PersonalityInsightsV3"
   ]
  },
  {
   "cell_type": "code",
   "execution_count": 6,
   "metadata": {
    "collapsed": true
   },
   "outputs": [],
   "source": [
    "TONE_USERNAME=\"\"\n",
    "TONE_PASSWORD=\"\"\n",
    "\n",
    "PERSONALITY_USERNAME=\"\"\n",
    "PERSONALITY_PASSWORD=\"\""
   ]
  },
  {
   "cell_type": "code",
   "execution_count": 13,
   "metadata": {
    "collapsed": false
   },
   "outputs": [],
   "source": [
    "tone_analyzer = ToneAnalyzerV3(\n",
    "   username=TONE_USERNAME,\n",
    "   password=TONE_PASSWORD,\n",
    "   version='2016-05-19')\n",
    "\n",
    "personality_insights = PersonalityInsightsV3(\n",
    "    username=PERSONALITY_USERNAME,\n",
    "    password=PERSONALITY_PASSWORD,\n",
    "    version='2016-10-20')"
   ]
  },
  {
   "cell_type": "code",
   "execution_count": null,
   "metadata": {
    "collapsed": true
   },
   "outputs": [],
   "source": []
  }
 ],
 "metadata": {
  "kernelspec": {
   "display_name": "Python 3.5 (Experimental) with Spark 2.0",
   "language": "python",
   "name": "python3-spark20"
  },
  "language_info": {
   "codemirror_mode": {
    "name": "ipython",
    "version": 3
   },
   "file_extension": ".py",
   "mimetype": "text/x-python",
   "name": "python",
   "nbconvert_exporter": "python",
   "pygments_lexer": "ipython3",
   "version": "3.5.2"
  }
 },
 "nbformat": 4,
 "nbformat_minor": 0
}